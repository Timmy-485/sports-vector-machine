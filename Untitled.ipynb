{
 "cells": [
  {
   "cell_type": "code",
   "execution_count": null,
   "id": "d0f72103",
   "metadata": {},
   "outputs": [],
   "source": [
    "import codecademylib3_seaborn\n",
    "import matplotlib.pyplot as plt\n",
    "from sklearn.svm import SVC\n",
    "from sklearn.model_selection import train_test_split\n",
    "from svm_visualization import draw_boundary\n",
    "from players import aaron_judge, jose_altuve, david_ortiz\n",
    "\n",
    "\n",
    "\n",
    "# print(aaron_judge.columns)\n",
    "# print(aaron_judge.description.unique())\n",
    "# print(aaron_judge.type.unique())\n",
    "\n",
    "def svc_classifier(df):\n",
    "  fig, ax = plt.subplots()\n",
    "  df['type'] = df['type'].map({'S':1, 'B':0})\n",
    "  # print(df.type)\n",
    "\n",
    "  # print(aaron_judge['plate_x'])\n",
    "  df = df.dropna(subset = ['plate_x', 'plate_z', 'type', 'strikes'])\n",
    "\n",
    "  plt.scatter(x = df['plate_x'], y = df['plate_z'], c = df['type'], cmap = plt.cm.coolwarm, alpha = 0.5)\n",
    "\n",
    "  training_set, validation_set = train_test_split(df , random_state = 1)\n",
    "\n",
    "\n",
    "  classifier = SVC(kernel='rbf', gamma=3, C=1)\n",
    "  classifier.fit(training_set[['plate_x', 'plate_z', 'strikes']], training_set['type'])\n",
    "\n",
    "  draw_boundary(ax, classifier)\n",
    "\n",
    "  ax.set_ylim(-2, 6)\n",
    "  ax.set_xlim(-3, 3)\n",
    "  plt.show()\n",
    "\n",
    "  return classifier.score(validation_set[['plate_x', 'plate_z', 'strikes']], validation_set['type'])\n",
    "\n",
    "\n",
    "\n",
    "\n",
    "print(svc_classifier(aaron_judge))\n",
    "print(svc_classifier(jose_altuve))\n",
    "\n",
    "\n"
   ]
  }
 ],
 "metadata": {
  "kernelspec": {
   "display_name": "Python 3",
   "language": "python",
   "name": "python3"
  },
  "language_info": {
   "codemirror_mode": {
    "name": "ipython",
    "version": 3
   },
   "file_extension": ".py",
   "mimetype": "text/x-python",
   "name": "python",
   "nbconvert_exporter": "python",
   "pygments_lexer": "ipython3",
   "version": "3.8.8"
  }
 },
 "nbformat": 4,
 "nbformat_minor": 5
}
